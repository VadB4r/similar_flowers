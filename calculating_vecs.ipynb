{
 "cells": [
  {
   "cell_type": "code",
   "id": "initial_id",
   "metadata": {
    "collapsed": true,
    "ExecuteTime": {
     "end_time": "2025-02-22T11:08:43.875488Z",
     "start_time": "2025-02-22T11:08:40.110331Z"
    }
   },
   "source": [
    "import torch\n",
    "from torchvision import datasets\n",
    "from torchvision.transforms import ToTensor, Compose, Resize\n",
    "import joblib\n",
    "torch.manual_seed(0)"
   ],
   "outputs": [
    {
     "data": {
      "text/plain": [
       "<torch._C.Generator at 0x1f58b9b1fd0>"
      ]
     },
     "execution_count": 1,
     "metadata": {},
     "output_type": "execute_result"
    }
   ],
   "execution_count": 1
  },
  {
   "metadata": {
    "ExecuteTime": {
     "end_time": "2025-02-22T11:08:43.906179Z",
     "start_time": "2025-02-22T11:08:43.875488Z"
    }
   },
   "cell_type": "code",
   "source": "device = torch.device('cuda' if torch.cuda.is_available() else 'cpu')",
   "id": "5207fed64ff11fbb",
   "outputs": [],
   "execution_count": 2
  },
  {
   "metadata": {
    "ExecuteTime": {
     "end_time": "2025-02-22T11:08:43.953530Z",
     "start_time": "2025-02-22T11:08:43.906179Z"
    }
   },
   "cell_type": "code",
   "source": [
    "data = datasets.ImageFolder(root = 'data',\n",
    "                           transform = Compose(\n",
    "                               [\n",
    "                                   Resize((224, 224)),\n",
    "                                   ToTensor()\n",
    "                               ]\n",
    "                           )\n",
    ")"
   ],
   "id": "8b135f154ce9838a",
   "outputs": [],
   "execution_count": 3
  },
  {
   "metadata": {
    "ExecuteTime": {
     "end_time": "2025-02-22T11:08:43.969308Z",
     "start_time": "2025-02-22T11:08:43.953530Z"
    }
   },
   "cell_type": "code",
   "source": "n_classes = len(data.classes)",
   "id": "1bb49a90c8fe88a5",
   "outputs": [],
   "execution_count": 4
  },
  {
   "metadata": {
    "ExecuteTime": {
     "end_time": "2025-02-22T11:08:43.985111Z",
     "start_time": "2025-02-22T11:08:43.971315Z"
    }
   },
   "cell_type": "code",
   "source": [
    "data_size = len(data)\n",
    "train_perc = 0.6\n",
    "val_perc = test_perc = 0.2\n",
    "_, _, test_set = torch.utils.data.random_split(data,\n",
    " [\n",
    "     int(data_size * train_perc),\n",
    "     int(data_size * val_perc),\n",
    "     data_size - int(data_size * train_perc) - int(data_size * val_perc),\n",
    "  ]\n",
    "                                                             )"
   ],
   "id": "40dfbfeb42ce3533",
   "outputs": [],
   "execution_count": 5
  },
  {
   "metadata": {
    "ExecuteTime": {
     "end_time": "2025-02-22T11:08:44.336984Z",
     "start_time": "2025-02-22T11:08:43.985111Z"
    }
   },
   "cell_type": "code",
   "source": "model = torch.load(\"models/vgg_flower_trained.pt\", weights_only=False).to(device)",
   "id": "91be4c323d736a8e",
   "outputs": [],
   "execution_count": 6
  },
  {
   "metadata": {
    "ExecuteTime": {
     "end_time": "2025-02-22T11:08:44.352778Z",
     "start_time": "2025-02-22T11:08:44.336984Z"
    }
   },
   "cell_type": "code",
   "source": "model.classifier = model.classifier[:-3]",
   "id": "51e762d8c5e3504a",
   "outputs": [],
   "execution_count": 7
  },
  {
   "metadata": {
    "jupyter": {
     "is_executing": true
    },
    "ExecuteTime": {
     "start_time": "2025-02-22T11:08:44.352778Z"
    }
   },
   "cell_type": "code",
   "source": [
    "vec_dict = dict()\n",
    "for i, (img, _) in enumerate(test_set):\n",
    "    img = img.to(device).unsqueeze(0)\n",
    "    vec = model(img).cpu().detach().numpy()\n",
    "    vec_dict[data.imgs[test_set.indices[i]]] = vec"
   ],
   "id": "1598e31d4b41f79b",
   "outputs": [],
   "execution_count": null
  },
  {
   "metadata": {
    "jupyter": {
     "is_executing": true
    }
   },
   "cell_type": "code",
   "source": "joblib.dump(vec_dict, 'data/vec_dict.joblib')",
   "id": "15d1d1ad816c7cce",
   "outputs": [],
   "execution_count": null
  }
 ],
 "metadata": {
  "kernelspec": {
   "display_name": "Python 3",
   "language": "python",
   "name": "python3"
  },
  "language_info": {
   "codemirror_mode": {
    "name": "ipython",
    "version": 2
   },
   "file_extension": ".py",
   "mimetype": "text/x-python",
   "name": "python",
   "nbconvert_exporter": "python",
   "pygments_lexer": "ipython2",
   "version": "2.7.6"
  }
 },
 "nbformat": 4,
 "nbformat_minor": 5
}
